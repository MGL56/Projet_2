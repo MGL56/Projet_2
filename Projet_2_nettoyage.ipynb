{
 "cells": [
  {
   "cell_type": "markdown",
   "metadata": {},
   "source": [
    "# Projet 3 : Concevez une application au service de la santé\n",
    "\n",
    "Les données sont disponibles à l'adresse suivante : https://fr.openfoodfacts.org/\n",
    "\n",
    "#### Idée : Scanner n'importe quel produit et obtenir un indicateur sur la qualité nutritionelle du produit, note basé sur le Nutri-Score\n",
    "\n",
    "\n",
    "#### Objectifs : \n",
    "\n",
    "#### - Evaluer la faisabilité du calcul du Nutri-Score sur les données\n",
    "\n",
    "#### - Evaluer la pertinence d'un modèle prédictif pour le calcul du Nutri-Score\n",
    "\n",
    "\n",
    "#### Informations sur le Nutri-Score :\n",
    "\n",
    "Le Nutri-Score, aussi appelé système 5 couleurs, est un système d'étiquetage nutritionnel basé sur un logo avec cinq valeurs allant de A à E et du vert au rouge, établi en fonction de la valeur nutritionnelle d'un produit alimentaire. Il est mis en place par le gouvernement Français en 2016 dans le cadre de la loi de modernisation du système de santé.\n",
    "\n",
    "Le score est calculé par un système de points, le score le plus faible étant le meilleur :\n",
    "\n",
    "Eléments défavorables au score :\n",
    "- apport calorique\n",
    "- teneur en sucre\n",
    "- teneur en graisses saturés\n",
    "- teneur en sel\n",
    "\n",
    "Eléments favorables au score :\n",
    "- teneur en fruits, légumes, légumineuses et oléagineux\n",
    "- teneur en fibres\n",
    "- teneur en protéines\n",
    "\n",
    "Des points sont attribués en fonction des éléments favorables et défavorables et un grade est attribué à chaque produit en fonction de son score :\n",
    "\n",
    "Pour les aliments :\n",
    "\n",
    "A : <0\n",
    "\n",
    "B : 0 à 2\n",
    "\n",
    "C : 3 à 10\n",
    "\n",
    "D : 11 à 18\n",
    "\n",
    "E : 19 à 40\n",
    "\n",
    "\n",
    "Pour les boissons :\n",
    "\n",
    "A : Eau\n",
    "\n",
    "B : <2\n",
    "\n",
    "B : 2 à 5\n",
    "\n",
    "C : 6 à 9\n",
    "\n",
    "D : 10 à 40\n",
    "\n",
    "Pour plus d'informations : https://quoidansmonassiette.fr/comment-est-calcule-le-nutri-score-logo-nutritionnel/"
   ]
  },
  {
   "cell_type": "markdown",
   "metadata": {},
   "source": [
    "##### Chargement des librairies"
   ]
  },
  {
   "cell_type": "code",
   "execution_count": 1,
   "metadata": {},
   "outputs": [],
   "source": [
    "import pandas as pd\n",
    "import numpy as np\n",
    "import matplotlib.pyplot as plt\n",
    "import seaborn as sns\n",
    "import os"
   ]
  },
  {
   "cell_type": "markdown",
   "metadata": {},
   "source": [
    "##### Lecture des données"
   ]
  },
  {
   "cell_type": "code",
   "execution_count": 2,
   "metadata": {},
   "outputs": [],
   "source": [
    "# -------Chemin d'accès aux données----------\n",
    "path = \"C:/OpenClassRoom/Projet_3/data\"\n",
    "\n",
    "# -------Lecture des données---------\n",
    "data = pd.read_csv(os.path.join(path, \"fr.openfoodfacts.org.products.csv\"), sep='\\t', low_memory=False)"
   ]
  },
  {
   "cell_type": "markdown",
   "metadata": {},
   "source": [
    "## 1 - Nettoyage des données"
   ]
  },
  {
   "cell_type": "markdown",
   "metadata": {},
   "source": [
    "### 1.1 Information sur les données"
   ]
  },
  {
   "cell_type": "markdown",
   "metadata": {},
   "source": [
    "#### 1.1.1 Affichage des données"
   ]
  },
  {
   "cell_type": "code",
   "execution_count": 3,
   "metadata": {},
   "outputs": [
    {
     "data": {
      "text/html": [
       "<div>\n",
       "<style scoped>\n",
       "    .dataframe tbody tr th:only-of-type {\n",
       "        vertical-align: middle;\n",
       "    }\n",
       "\n",
       "    .dataframe tbody tr th {\n",
       "        vertical-align: top;\n",
       "    }\n",
       "\n",
       "    .dataframe thead th {\n",
       "        text-align: right;\n",
       "    }\n",
       "</style>\n",
       "<table border=\"1\" class=\"dataframe\">\n",
       "  <thead>\n",
       "    <tr style=\"text-align: right;\">\n",
       "      <th></th>\n",
       "      <th>code</th>\n",
       "      <th>url</th>\n",
       "      <th>creator</th>\n",
       "      <th>created_t</th>\n",
       "      <th>created_datetime</th>\n",
       "      <th>last_modified_t</th>\n",
       "      <th>last_modified_datetime</th>\n",
       "      <th>product_name</th>\n",
       "      <th>generic_name</th>\n",
       "      <th>quantity</th>\n",
       "      <th>...</th>\n",
       "      <th>carbon-footprint-from-meat-or-fish_100g</th>\n",
       "      <th>nutrition-score-fr_100g</th>\n",
       "      <th>nutrition-score-uk_100g</th>\n",
       "      <th>glycemic-index_100g</th>\n",
       "      <th>water-hardness_100g</th>\n",
       "      <th>choline_100g</th>\n",
       "      <th>phylloquinone_100g</th>\n",
       "      <th>beta-glucan_100g</th>\n",
       "      <th>inositol_100g</th>\n",
       "      <th>carnitine_100g</th>\n",
       "    </tr>\n",
       "  </thead>\n",
       "  <tbody>\n",
       "    <tr>\n",
       "      <th>0</th>\n",
       "      <td>0000000000000010</td>\n",
       "      <td>http://world-fr.openfoodfacts.org/produit/0000...</td>\n",
       "      <td>openfoodfacts-contributors</td>\n",
       "      <td>1550246813</td>\n",
       "      <td>2019-02-15T16:06:53Z</td>\n",
       "      <td>1550246813</td>\n",
       "      <td>2019-02-15T16:06:53Z</td>\n",
       "      <td>NaN</td>\n",
       "      <td>NaN</td>\n",
       "      <td>NaN</td>\n",
       "      <td>...</td>\n",
       "      <td>NaN</td>\n",
       "      <td>NaN</td>\n",
       "      <td>NaN</td>\n",
       "      <td>NaN</td>\n",
       "      <td>NaN</td>\n",
       "      <td>NaN</td>\n",
       "      <td>NaN</td>\n",
       "      <td>NaN</td>\n",
       "      <td>NaN</td>\n",
       "      <td>NaN</td>\n",
       "    </tr>\n",
       "    <tr>\n",
       "      <th>1</th>\n",
       "      <td>000000000000010</td>\n",
       "      <td>http://world-fr.openfoodfacts.org/produit/0000...</td>\n",
       "      <td>openfoodfacts-contributors</td>\n",
       "      <td>1550246831</td>\n",
       "      <td>2019-02-15T16:07:11Z</td>\n",
       "      <td>1550246831</td>\n",
       "      <td>2019-02-15T16:07:11Z</td>\n",
       "      <td>NaN</td>\n",
       "      <td>NaN</td>\n",
       "      <td>NaN</td>\n",
       "      <td>...</td>\n",
       "      <td>NaN</td>\n",
       "      <td>NaN</td>\n",
       "      <td>NaN</td>\n",
       "      <td>NaN</td>\n",
       "      <td>NaN</td>\n",
       "      <td>NaN</td>\n",
       "      <td>NaN</td>\n",
       "      <td>NaN</td>\n",
       "      <td>NaN</td>\n",
       "      <td>NaN</td>\n",
       "    </tr>\n",
       "    <tr>\n",
       "      <th>2</th>\n",
       "      <td>0000000000017</td>\n",
       "      <td>http://world-fr.openfoodfacts.org/produit/0000...</td>\n",
       "      <td>kiliweb</td>\n",
       "      <td>1529059080</td>\n",
       "      <td>2018-06-15T10:38:00Z</td>\n",
       "      <td>1529059204</td>\n",
       "      <td>2018-06-15T10:40:04Z</td>\n",
       "      <td>Vitória crackers</td>\n",
       "      <td>NaN</td>\n",
       "      <td>NaN</td>\n",
       "      <td>...</td>\n",
       "      <td>NaN</td>\n",
       "      <td>NaN</td>\n",
       "      <td>NaN</td>\n",
       "      <td>NaN</td>\n",
       "      <td>NaN</td>\n",
       "      <td>NaN</td>\n",
       "      <td>NaN</td>\n",
       "      <td>NaN</td>\n",
       "      <td>NaN</td>\n",
       "      <td>NaN</td>\n",
       "    </tr>\n",
       "    <tr>\n",
       "      <th>3</th>\n",
       "      <td>0000000000031</td>\n",
       "      <td>http://world-fr.openfoodfacts.org/produit/0000...</td>\n",
       "      <td>isagoofy</td>\n",
       "      <td>1539464774</td>\n",
       "      <td>2018-10-13T21:06:14Z</td>\n",
       "      <td>1539464817</td>\n",
       "      <td>2018-10-13T21:06:57Z</td>\n",
       "      <td>Cacao</td>\n",
       "      <td>NaN</td>\n",
       "      <td>130 g</td>\n",
       "      <td>...</td>\n",
       "      <td>NaN</td>\n",
       "      <td>NaN</td>\n",
       "      <td>NaN</td>\n",
       "      <td>NaN</td>\n",
       "      <td>NaN</td>\n",
       "      <td>NaN</td>\n",
       "      <td>NaN</td>\n",
       "      <td>NaN</td>\n",
       "      <td>NaN</td>\n",
       "      <td>NaN</td>\n",
       "    </tr>\n",
       "    <tr>\n",
       "      <th>4</th>\n",
       "      <td>0000000000123</td>\n",
       "      <td>http://world-fr.openfoodfacts.org/produit/0000...</td>\n",
       "      <td>kiliweb</td>\n",
       "      <td>1535737982</td>\n",
       "      <td>2018-08-31T17:53:02Z</td>\n",
       "      <td>1535737986</td>\n",
       "      <td>2018-08-31T17:53:06Z</td>\n",
       "      <td>Sauce Sweety chili 0%</td>\n",
       "      <td>NaN</td>\n",
       "      <td>NaN</td>\n",
       "      <td>...</td>\n",
       "      <td>NaN</td>\n",
       "      <td>NaN</td>\n",
       "      <td>NaN</td>\n",
       "      <td>NaN</td>\n",
       "      <td>NaN</td>\n",
       "      <td>NaN</td>\n",
       "      <td>NaN</td>\n",
       "      <td>NaN</td>\n",
       "      <td>NaN</td>\n",
       "      <td>NaN</td>\n",
       "    </tr>\n",
       "  </tbody>\n",
       "</table>\n",
       "<p>5 rows × 175 columns</p>\n",
       "</div>"
      ],
      "text/plain": [
       "               code                                                url  \\\n",
       "0  0000000000000010  http://world-fr.openfoodfacts.org/produit/0000...   \n",
       "1   000000000000010  http://world-fr.openfoodfacts.org/produit/0000...   \n",
       "2     0000000000017  http://world-fr.openfoodfacts.org/produit/0000...   \n",
       "3     0000000000031  http://world-fr.openfoodfacts.org/produit/0000...   \n",
       "4     0000000000123  http://world-fr.openfoodfacts.org/produit/0000...   \n",
       "\n",
       "                      creator   created_t      created_datetime  \\\n",
       "0  openfoodfacts-contributors  1550246813  2019-02-15T16:06:53Z   \n",
       "1  openfoodfacts-contributors  1550246831  2019-02-15T16:07:11Z   \n",
       "2                     kiliweb  1529059080  2018-06-15T10:38:00Z   \n",
       "3                    isagoofy  1539464774  2018-10-13T21:06:14Z   \n",
       "4                     kiliweb  1535737982  2018-08-31T17:53:02Z   \n",
       "\n",
       "   last_modified_t last_modified_datetime           product_name generic_name  \\\n",
       "0       1550246813   2019-02-15T16:06:53Z                    NaN          NaN   \n",
       "1       1550246831   2019-02-15T16:07:11Z                    NaN          NaN   \n",
       "2       1529059204   2018-06-15T10:40:04Z       Vitória crackers          NaN   \n",
       "3       1539464817   2018-10-13T21:06:57Z                  Cacao          NaN   \n",
       "4       1535737986   2018-08-31T17:53:06Z  Sauce Sweety chili 0%          NaN   \n",
       "\n",
       "  quantity      ...       carbon-footprint-from-meat-or-fish_100g  \\\n",
       "0      NaN      ...                                           NaN   \n",
       "1      NaN      ...                                           NaN   \n",
       "2      NaN      ...                                           NaN   \n",
       "3    130 g      ...                                           NaN   \n",
       "4      NaN      ...                                           NaN   \n",
       "\n",
       "  nutrition-score-fr_100g nutrition-score-uk_100g glycemic-index_100g  \\\n",
       "0                     NaN                     NaN                 NaN   \n",
       "1                     NaN                     NaN                 NaN   \n",
       "2                     NaN                     NaN                 NaN   \n",
       "3                     NaN                     NaN                 NaN   \n",
       "4                     NaN                     NaN                 NaN   \n",
       "\n",
       "  water-hardness_100g choline_100g phylloquinone_100g beta-glucan_100g  \\\n",
       "0                 NaN          NaN                NaN              NaN   \n",
       "1                 NaN          NaN                NaN              NaN   \n",
       "2                 NaN          NaN                NaN              NaN   \n",
       "3                 NaN          NaN                NaN              NaN   \n",
       "4                 NaN          NaN                NaN              NaN   \n",
       "\n",
       "  inositol_100g carnitine_100g  \n",
       "0           NaN            NaN  \n",
       "1           NaN            NaN  \n",
       "2           NaN            NaN  \n",
       "3           NaN            NaN  \n",
       "4           NaN            NaN  \n",
       "\n",
       "[5 rows x 175 columns]"
      ]
     },
     "execution_count": 3,
     "metadata": {},
     "output_type": "execute_result"
    }
   ],
   "source": [
    "# Affiche les 5 premières lignes\n",
    "data.head()"
   ]
  },
  {
   "cell_type": "markdown",
   "metadata": {},
   "source": [
    "Il y a 175 colonnes qui renseignent notamment le nom du produit, les pays de distribution, et la composition nutritionnelle "
   ]
  },
  {
   "cell_type": "markdown",
   "metadata": {},
   "source": [
    "#### 1.1.2 Structure des données"
   ]
  },
  {
   "cell_type": "code",
   "execution_count": 4,
   "metadata": {},
   "outputs": [
    {
     "name": "stdout",
     "output_type": "stream",
     "text": [
      "<class 'pandas.core.frame.DataFrame'>\n",
      "RangeIndex: 877958 entries, 0 to 877957\n",
      "Columns: 175 entries, code to carnitine_100g\n",
      "dtypes: float64(117), int64(2), object(56)\n",
      "memory usage: 1.1+ GB\n"
     ]
    }
   ],
   "source": [
    "# Structure : entrées, colonnes, types et valeurs non nulles\n",
    "data.info()"
   ]
  },
  {
   "cell_type": "code",
   "execution_count": 5,
   "metadata": {},
   "outputs": [
    {
     "name": "stdout",
     "output_type": "stream",
     "text": [
      "Il y a 877958 produits dans la table\n"
     ]
    }
   ],
   "source": [
    "print(\"Il y a {} produits dans la table\".format(len(data)))"
   ]
  },
  {
   "cell_type": "markdown",
   "metadata": {},
   "source": [
    "#### 1.1.3 Données vendues sur le sol français"
   ]
  },
  {
   "cell_type": "code",
   "execution_count": 6,
   "metadata": {},
   "outputs": [
    {
     "name": "stdout",
     "output_type": "stream",
     "text": [
      "Seuls les produits vendus sur le sol français sont séléctionnés et leur nombre est de : 568535, soit 64.76 % des données\n"
     ]
    }
   ],
   "source": [
    "countries = []\n",
    "for label_country in data.countries_fr.unique() :\n",
    "    if \"FR\" in str(label_country).upper() :\n",
    "        countries.append(label_country)\n",
    "data_fr = data[data[\"countries_fr\"].isin(countries)]    \n",
    "\n",
    "print(\"Seuls les produits vendus sur le sol français sont séléctionnés et leur nombre est de : {}, soit {:.2f} % des données\".format(len(data_fr), len(data_fr)/len(data)*100))"
   ]
  },
  {
   "cell_type": "markdown",
   "metadata": {},
   "source": [
    "#### 1.1.4 Données dont le nom du produit est indiqué"
   ]
  },
  {
   "cell_type": "code",
   "execution_count": 7,
   "metadata": {},
   "outputs": [],
   "source": [
    "data_fr = data_fr[data_fr[\"product_name\"].isna() == False]"
   ]
  },
  {
   "cell_type": "markdown",
   "metadata": {},
   "source": [
    "### 1.2 Disponibilité des données renseignés "
   ]
  },
  {
   "cell_type": "markdown",
   "metadata": {},
   "source": [
    "On affiche les colonnes dont les données sont renseignés pour au moins 20%"
   ]
  },
  {
   "cell_type": "code",
   "execution_count": 8,
   "metadata": {},
   "outputs": [
    {
     "data": {
      "image/png": "[encoded data removed]",
      "text/plain": [
       "<Figure size 1440x720 with 1 Axes>"
      ]
     },
     "metadata": {
      "needs_background": "light"
     },
     "output_type": "display_data"
    }
   ],
   "source": [
    "data_na = 1 - (data_fr.isna().sum(axis=0))/len(data_fr)\n",
    "data_na = data_na[data_na>0.2].sort_values(ascending=False)\n",
    "\n",
    "fig = plt.figure(1, figsize=(20,10))\n",
    "sns.barplot(data_na.index, data_na.values)\n",
    "\n",
    "plt.xticks(rotation=90)\n",
    "plt.title(\"Proportions des données renseignés\")\n",
    "plt.show()"
   ]
  },
  {
   "cell_type": "markdown",
   "metadata": {},
   "source": [
    "#### 1.2.1 Teneur en fruits et légumes"
   ]
  },
  {
   "cell_type": "code",
   "execution_count": 9,
   "metadata": {},
   "outputs": [
    {
     "name": "stdout",
     "output_type": "stream",
     "text": [
      "fruits-vegetables-nuts_100g : 99.33349171883259 % de données manquantes\n",
      "fruits-vegetables-nuts-dried_100g : 99.95764108740853 % de données manquantes\n",
      "fruits-vegetables-nuts-estimate_100g : 98.3699185419694 % de données manquantes\n"
     ]
    }
   ],
   "source": [
    "for col in data_fr :\n",
    "    if 'fruit' in col :\n",
    "        print(col, \":\", 100*data_fr[col].isna().sum()/len(data_fr), \"% de données manquantes\")"
   ]
  },
  {
   "cell_type": "markdown",
   "metadata": {},
   "source": [
    "Il y a des colonnes qui indiquent la proportion en fruits et légumes pour 100g mais les proportions de données manquantes sont beaucoup trop importantes pour leur exploitation"
   ]
  },
  {
   "cell_type": "markdown",
   "metadata": {},
   "source": [
    "#### 1.3.1 Noms des catégories et nombres de produits dans chacune"
   ]
  },
  {
   "cell_type": "code",
   "execution_count": 10,
   "metadata": {},
   "outputs": [
    {
     "data": {
      "text/plain": [
       "Boissons                                               19798\n",
       "Snacks                                                 12383\n",
       "Plats préparés                                          8263\n",
       "Aliments et boissons à base de végétaux                 7556\n",
       "Epicerie                                                7496\n",
       "Chocolats                                               6090\n",
       "Fromages de France                                      5534\n",
       "Gâteaux                                                 5480\n",
       "Biscuits                                                5325\n",
       "Volailles                                               5150\n",
       "Plats préparés à la viande                              4805\n",
       "Confitures                                              4691\n",
       "Fromages                                                4509\n",
       "Produits à tartiner salés                               4480\n",
       "Conserves                                               4452\n",
       "Desserts                                                4188\n",
       "Pains                                                   3996\n",
       "Surgelés                                                3631\n",
       "Petit-déjeuners                                         3605\n",
       "Produits d'élevages                                     3435\n",
       "Condiments                                              3420\n",
       "Charcuteries                                            3009\n",
       "Pâtes alimentaires                                      2962\n",
       "Viandes                                                 2739\n",
       "Soupes                                                  2657\n",
       "Chips et frites                                         2494\n",
       "Saucisses                                               2314\n",
       "Bonbons                                                 2232\n",
       "Laits                                                   2175\n",
       "Pâtisseries                                             2175\n",
       "                                                       ...  \n",
       "Mais-a-eclater                                             1\n",
       "Aiguillette-de-canard-surgelee                             1\n",
       "en:strawberry-preserves                                    1\n",
       "Boisson-sans-alcool-gout-tropical                          1\n",
       "Boules-de-picoulat                                         1\n",
       "de:gemuse-maultaschen                                      1\n",
       "Carre-de-chocolat                                          1\n",
       "de:malzkaffee                                              1\n",
       "en:corn-thins                                              1\n",
       "Pates-a-chaussons                                          1\n",
       "Caramel-sucrerie                                           1\n",
       "pt:produto-integral-com-cereais                            1\n",
       "Cereales-enfant                                            1\n",
       "Filet-de-porc-seche                                        1\n",
       "Pain-au-cereales                                           1\n",
       "100-jus-de-fruit                                           1\n",
       "Creme-fluide-legere-15-mat-grasse                          1\n",
       "Fromage-frais-light                                        1\n",
       "Magnesium-marin                                            1\n",
       "Preparation-de-lentilles                                   1\n",
       "Muesli-aux-graines-baies-et-plantes                        1\n",
       "es:higiene                                                 1\n",
       "Yaourt-sucre-avec-melange-cereales-et-fruits-rouges        1\n",
       "es:ultraprocesados                                         1\n",
       "es:comida-vegetariana                                      1\n",
       "Categorie-1-calibre-16-227-274                             1\n",
       "Chocolats-chauds                                           1\n",
       "Capsule-pour-boisson-instantanee                           1\n",
       "de:farine-usage-special                                    1\n",
       "Aspics                                                     1\n",
       "Name: main_category_fr, Length: 3580, dtype: int64"
      ]
     },
     "execution_count": 10,
     "metadata": {},
     "output_type": "execute_result"
    }
   ],
   "source": [
    "data_fr['main_category_fr'].value_counts()"
   ]
  },
  {
   "cell_type": "code",
   "execution_count": 11,
   "metadata": {},
   "outputs": [
    {
     "name": "stdout",
     "output_type": "stream",
     "text": [
      "La proportion des produits qui sont catégorisés est de : 57.43 %\n"
     ]
    }
   ],
   "source": [
    "print(\"La proportion des produits qui sont catégorisés est de : {:.2f} %\".format(100*data_fr['main_category_fr'].isna().sum()/len(data_fr)))"
   ]
  },
  {
   "cell_type": "markdown",
   "metadata": {},
   "source": [
    "### 1.3 Séléction des données"
   ]
  },
  {
   "cell_type": "markdown",
   "metadata": {},
   "source": [
    "#### 1.3.1 Suppression des colonnes renseignés à moins de 20 % (hormi le Nutri-Score)"
   ]
  },
  {
   "cell_type": "code",
   "execution_count": 12,
   "metadata": {},
   "outputs": [],
   "source": [
    "nutrition_grade_fr = data_fr[\"nutrition_grade_fr\"]\n",
    "col_to_del = []\n",
    "for col in data_fr :\n",
    "    if data_fr[col].isna().sum()/len(data_fr)>0.8 :\n",
    "        col_to_del.append(col)\n",
    "df = data_fr.drop(columns=col_to_del)"
   ]
  },
  {
   "cell_type": "code",
   "execution_count": 13,
   "metadata": {},
   "outputs": [
    {
     "name": "stdout",
     "output_type": "stream",
     "text": [
      "fruits-vegetables-nuts_100g : 99.33349171883259 % de données manquantes\n",
      "fruits-vegetables-nuts-dried_100g : 99.95764108740853 % de données manquantes\n",
      "fruits-vegetables-nuts-estimate_100g : 98.3699185419694 % de données manquantes\n"
     ]
    }
   ],
   "source": [
    "for col in data_fr :\n",
    "    if 'fruit' in col :\n",
    "        print(col, \":\", 100*data_fr[col].isna().sum()/len(data_fr), \"% de données manquantes\")"
   ]
  },
  {
   "cell_type": "markdown",
   "metadata": {},
   "source": [
    "La proportion de fruits et légumes n'est globalement pas renseignée"
   ]
  },
  {
   "cell_type": "markdown",
   "metadata": {},
   "source": [
    "#### 1.3.2 Les macro-nutriments (renseignés à plus de 20%)\n",
    "Les macro nutriments sont repérés par leur suffixe \"_100g\""
   ]
  },
  {
   "cell_type": "code",
   "execution_count": 14,
   "metadata": {},
   "outputs": [
    {
     "name": "stdout",
     "output_type": "stream",
     "text": [
      "% de produits non renseignés :\n",
      "energy_100g : 15.62\n",
      "fat_100g : 16.38\n",
      "saturated-fat_100g : 15.94\n",
      "carbohydrates_100g : 16.42\n",
      "sugars_100g : 15.9\n",
      "fiber_100g : 78.1\n",
      "proteins_100g : 15.69\n",
      "salt_100g : 18.48\n",
      "sodium_100g : 18.48\n",
      "nutrition-score-fr_100g : 65.41\n",
      "nutrition-score-uk_100g : 65.41\n"
     ]
    }
   ],
   "source": [
    "macro_nutriments_labels = []\n",
    "print(\"% de produits non renseignés :\")\n",
    "for col in df :\n",
    "    if \"_100g\" in col :\n",
    "        macro_nutriments_labels.append(col)\n",
    "        print(col, \":\", round(100*df[col].isna().sum()/len(df),2))"
   ]
  },
  {
   "cell_type": "markdown",
   "metadata": {},
   "source": [
    "Suppression des variables qui ne sont pas des nutriments"
   ]
  },
  {
   "cell_type": "code",
   "execution_count": 15,
   "metadata": {},
   "outputs": [],
   "source": [
    "if 'nutrition-score-uk_100g' in macro_nutriments_labels :\n",
    "    macro_nutriments_labels.remove('nutrition-score-uk_100g')\n",
    "if 'nutrition-score-fr_100g' in macro_nutriments_labels :\n",
    "    macro_nutriments_labels.remove('nutrition-score-fr_100g')"
   ]
  },
  {
   "cell_type": "markdown",
   "metadata": {},
   "source": [
    "#### 1.3.3 Remplisssage des valeurs manquantes pour les fibres"
   ]
  },
  {
   "cell_type": "code",
   "execution_count": 16,
   "metadata": {},
   "outputs": [],
   "source": [
    "df[\"fiber_100g\"] = df[\"fiber_100g\"].fillna(0)"
   ]
  },
  {
   "cell_type": "markdown",
   "metadata": {},
   "source": [
    "Les fibres n'apportent pas de calorie et leurs quantités ne sont pas nécessairement indiquées sur les produits\n",
    "\n",
    "Lorsque l'information n'est pas renseigné, c'est probablement qu'il n'y en a pas"
   ]
  },
  {
   "cell_type": "markdown",
   "metadata": {},
   "source": [
    "#### 1.3.4 Suppression des valeurs abérrantes"
   ]
  },
  {
   "cell_type": "markdown",
   "metadata": {},
   "source": [
    "Nombre de produits dont les valeurs sont supérieurs à 100 g"
   ]
  },
  {
   "cell_type": "code",
   "execution_count": 17,
   "metadata": {},
   "outputs": [
    {
     "data": {
      "text/plain": [
       "fat_100g               6\n",
       "saturated-fat_100g     7\n",
       "carbohydrates_100g    40\n",
       "sugars_100g           14\n",
       "fiber_100g            10\n",
       "proteins_100g          6\n",
       "salt_100g             20\n",
       "sodium_100g           15\n",
       "dtype: int64"
      ]
     },
     "execution_count": 17,
     "metadata": {},
     "output_type": "execute_result"
    }
   ],
   "source": [
    "(df[macro_nutriments_labels].drop(columns='energy_100g')>100).sum()"
   ]
  },
  {
   "cell_type": "markdown",
   "metadata": {},
   "source": [
    "Nombre de produits dont les valeurs sont inférieurs à 0 g"
   ]
  },
  {
   "cell_type": "code",
   "execution_count": 18,
   "metadata": {},
   "outputs": [
    {
     "data": {
      "text/plain": [
       "fat_100g              0\n",
       "saturated-fat_100g    0\n",
       "carbohydrates_100g    0\n",
       "sugars_100g           1\n",
       "fiber_100g            0\n",
       "proteins_100g         0\n",
       "salt_100g             0\n",
       "sodium_100g           0\n",
       "dtype: int64"
      ]
     },
     "execution_count": 18,
     "metadata": {},
     "output_type": "execute_result"
    }
   ],
   "source": [
    "(df[macro_nutriments_labels].drop(columns='energy_100g')<0).sum()"
   ]
  },
  {
   "cell_type": "markdown",
   "metadata": {},
   "source": [
    "Suppression des produits dont l'énergie supérieur à 3700 kJ (3700 kJ/100g = 100% de graisses)\n",
    "\n",
    "Suppresion des produits supérieurs à 100g pour 100g ou inférieurs à 0g pour 100g"
   ]
  },
  {
   "cell_type": "code",
   "execution_count": 19,
   "metadata": {},
   "outputs": [
    {
     "name": "stdout",
     "output_type": "stream",
     "text": [
      "Le nombre de produits dont l'énergie est supérieur à 3700 kJ est de : 3793\n"
     ]
    }
   ],
   "source": [
    "max_energy = 3700\n",
    "print(\"Le nombre de produits dont l'énergie est supérieur à 3700 kJ est de : {}\".format(sum(df['energy_100g']>max_energy)))"
   ]
  },
  {
   "cell_type": "code",
   "execution_count": 20,
   "metadata": {},
   "outputs": [],
   "source": [
    "# Enlève les valeurs supérieurs à 100g et inférieurs à 0g et l'énergie supérieur à 3700 kJ\n",
    "for label in macro_nutriments_labels : \n",
    "    if 'energy' not in label :\n",
    "        df = df[(df[label] >= 0) & (df[label] <= 100)] \n",
    "    else :\n",
    "        df = df[df[label]<=max_energy]"
   ]
  },
  {
   "cell_type": "markdown",
   "metadata": {},
   "source": [
    "Suppression des produits dont la somme en nutriments est supérieure à 100g (incohérent)"
   ]
  },
  {
   "cell_type": "code",
   "execution_count": 21,
   "metadata": {},
   "outputs": [
    {
     "name": "stdout",
     "output_type": "stream",
     "text": [
      "Le nombre de produits avec plus de 100g de macro nutriments est de : 3780\n"
     ]
    }
   ],
   "source": [
    "nb = sum(df[['fat_100g', 'carbohydrates_100g', 'proteins_100g', 'fiber_100g', 'salt_100g']].sum(axis=1)>100)\n",
    "print(\"Le nombre de produits avec plus de 100g de macro nutriments est de : {}\".format(nb))\n",
    "df  = df [df[['fat_100g', 'carbohydrates_100g', 'proteins_100g', 'fiber_100g', 'salt_100g']].sum(axis=1)<100]"
   ]
  },
  {
   "cell_type": "markdown",
   "metadata": {},
   "source": [
    "Suppression des produits dont la quantité de graisse saturée est supérieur à la quantité totale de graisse (incohérent)"
   ]
  },
  {
   "cell_type": "code",
   "execution_count": 22,
   "metadata": {},
   "outputs": [
    {
     "name": "stdout",
     "output_type": "stream",
     "text": [
      "Le nombre de produits dont les graisses saturées sont en plus grande quantitée que les graisses : 118\n"
     ]
    }
   ],
   "source": [
    "cond_fat = df[\"fat_100g\"]< df[\"saturated-fat_100g\"]\n",
    "print(\"Le nombre de produits dont les graisses saturées sont en plus grande quantitée que les graisses : {}\".format(cond_fat.sum()))\n",
    "df = df[~cond_fat]"
   ]
  },
  {
   "cell_type": "markdown",
   "metadata": {},
   "source": [
    "Suppressions des produits dont les sucres sont supérieurs en quantitée que les glucides (incohérent)"
   ]
  },
  {
   "cell_type": "code",
   "execution_count": 23,
   "metadata": {},
   "outputs": [
    {
     "name": "stdout",
     "output_type": "stream",
     "text": [
      "Le nombre de produits dont les sucres sont en plus grande quantitée que les glucides : 106\n"
     ]
    }
   ],
   "source": [
    "cond_sugars = df[\"sugars_100g\"]> df[\"carbohydrates_100g\"]\n",
    "print(\"Le nombre de produits dont les sucres sont en plus grande quantitée que les glucides : {}\".format(cond_sugars.sum()))\n",
    "df = df[~cond_sugars]"
   ]
  },
  {
   "cell_type": "markdown",
   "metadata": {},
   "source": [
    "#### 1.3.5 Sel et Sodium"
   ]
  },
  {
   "cell_type": "code",
   "execution_count": 24,
   "metadata": {},
   "outputs": [
    {
     "data": {
      "text/html": [
       "<div>\n",
       "<style scoped>\n",
       "    .dataframe tbody tr th:only-of-type {\n",
       "        vertical-align: middle;\n",
       "    }\n",
       "\n",
       "    .dataframe tbody tr th {\n",
       "        vertical-align: top;\n",
       "    }\n",
       "\n",
       "    .dataframe thead th {\n",
       "        text-align: right;\n",
       "    }\n",
       "</style>\n",
       "<table border=\"1\" class=\"dataframe\">\n",
       "  <thead>\n",
       "    <tr style=\"text-align: right;\">\n",
       "      <th></th>\n",
       "      <th>sodium_100g</th>\n",
       "      <th>salt_100g</th>\n",
       "    </tr>\n",
       "  </thead>\n",
       "  <tbody>\n",
       "    <tr>\n",
       "      <th>sodium_100g</th>\n",
       "      <td>1.0</td>\n",
       "      <td>1.0</td>\n",
       "    </tr>\n",
       "    <tr>\n",
       "      <th>salt_100g</th>\n",
       "      <td>1.0</td>\n",
       "      <td>1.0</td>\n",
       "    </tr>\n",
       "  </tbody>\n",
       "</table>\n",
       "</div>"
      ],
      "text/plain": [
       "             sodium_100g  salt_100g\n",
       "sodium_100g          1.0        1.0\n",
       "salt_100g            1.0        1.0"
      ]
     },
     "execution_count": 24,
     "metadata": {},
     "output_type": "execute_result"
    }
   ],
   "source": [
    "df[[\"sodium_100g\", \"salt_100g\"]].corr()"
   ]
  },
  {
   "cell_type": "markdown",
   "metadata": {},
   "source": [
    "Les quantités de sel et de sodium sont corrélées à 100% donc il y a une information redondante"
   ]
  },
  {
   "cell_type": "markdown",
   "metadata": {},
   "source": [
    "Suppresion du label sodium_100g"
   ]
  },
  {
   "cell_type": "code",
   "execution_count": 25,
   "metadata": {},
   "outputs": [],
   "source": [
    "df.drop(columns=\"sodium_100g\", inplace=True)"
   ]
  },
  {
   "cell_type": "markdown",
   "metadata": {},
   "source": [
    "#### Proportion des données conservées"
   ]
  },
  {
   "cell_type": "code",
   "execution_count": 26,
   "metadata": {},
   "outputs": [
    {
     "name": "stdout",
     "output_type": "stream",
     "text": [
      "La proportion de données conservées est de : 48.77 % soit 428163 produits\n"
     ]
    }
   ],
   "source": [
    "print(\"La proportion de données conservées est de : {:.2f} % soit {} produits\".format(len(df)/len(data)*100, len(df)))"
   ]
  },
  {
   "cell_type": "markdown",
   "metadata": {},
   "source": [
    "#### Proportion des données renseignés qui possèdent un Nutri-Score"
   ]
  },
  {
   "cell_type": "code",
   "execution_count": 27,
   "metadata": {},
   "outputs": [
    {
     "name": "stdout",
     "output_type": "stream",
     "text": [
      "42.49 % des données ont un Nutrition grade\n"
     ]
    }
   ],
   "source": [
    "print(\"{:.2f} % des données ont un Nutrition grade\".format(100*(1- df[\"nutrition_grade_fr\"].isna().sum()/len(df))))"
   ]
  },
  {
   "cell_type": "code",
   "execution_count": 28,
   "metadata": {},
   "outputs": [
    {
     "data": {
      "text/plain": [
       "1.0"
      ]
     },
     "execution_count": 28,
     "metadata": {},
     "output_type": "execute_result"
    }
   ],
   "source": [
    "# Les index des produits qui ont un nutrition-Score et un nutrition-grade, sont comparés 2 à 2\n",
    "# Proportion des produits qui ont à la fois un \"nutrition score\" et un \"nutrition grade\" parmi ceux qui possèdent un \"nutrition grade\"\n",
    "sum(df[df[\"nutrition-score-fr_100g\"].isna()].index == df[df[\"nutrition_grade_fr\"].isna()].index)/len(df[df[\"nutrition_grade_fr\"].isna()])"
   ]
  },
  {
   "cell_type": "markdown",
   "metadata": {},
   "source": [
    "Le Nutri-Score est déterminé à partir du Nutrition Score"
   ]
  },
  {
   "cell_type": "markdown",
   "metadata": {},
   "source": [
    "#### Sauvegarde des données"
   ]
  },
  {
   "cell_type": "code",
   "execution_count": 29,
   "metadata": {},
   "outputs": [],
   "source": [
    "# On sauvegarde le fichier .csv\n",
    "df.to_csv(os.path.join(path, \"fr_products.csv\"), sep=\"\\t\")"
   ]
  },
  {
   "cell_type": "markdown",
   "metadata": {},
   "source": [
    "### 1.4 Synthèse"
   ]
  },
  {
   "cell_type": "markdown",
   "metadata": {},
   "source": [
    "Il ne semble pas envisageable d'effectuer un calcul direct sur  les données présentes pour obtenir le Nutri-Score d'un produit pour les raisons suivantes :\n",
    "   - Trop de produits ne sont pas catégorisés ce qui ne permet pas de classer chaque produit en boisson ou aliment\n",
    "   - N'est globalement pas renseigné la proportion de fruits et légumes\n",
    "   \n",
    "Concernant la création d'un modèle prédictif, elle semble envisageable car tous les macro-nutriments sont disponibles et prédire la lettre associé sans passer par le score de nutrition permet de s'affranchir du problème des catégories manquantes\n",
    "\n",
    "De plus, si la méthode de calcul du Nutri-Score est amené à changer, ne serait-ce que légèrement, alors il faudra tout recalculer, alors qu'avec un modèle de machine learning il suffira de relancer l'entrainement pour obtenir la bonne prédiction."
   ]
  }
 ],
 "metadata": {
  "kernelspec": {
   "display_name": "Python 3",
   "language": "python",
   "name": "python3"
  },
  "language_info": {
   "codemirror_mode": {
    "name": "ipython",
    "version": 3
   },
   "file_extension": ".py",
   "mimetype": "text/x-python",
   "name": "python",
   "nbconvert_exporter": "python",
   "pygments_lexer": "ipython3",
   "version": "3.7.4"
  },
  "toc": {
   "base_numbering": 1,
   "nav_menu": {},
   "number_sections": true,
   "sideBar": true,
   "skip_h1_title": false,
   "title_cell": "Table of Contents",
   "title_sidebar": "Contents",
   "toc_cell": false,
   "toc_position": {},
   "toc_section_display": true,
   "toc_window_display": false
  },
  "varInspector": {
   "cols": {
    "lenName": 16,
    "lenType": 16,
    "lenVar": 40
   },
   "kernels_config": {
    "python": {
     "delete_cmd_postfix": "",
     "delete_cmd_prefix": "del ",
     "library": "var_list.py",
     "varRefreshCmd": "print(var_dic_list())"
    },
    "r": {
     "delete_cmd_postfix": ") ",
     "delete_cmd_prefix": "rm(",
     "library": "var_list.r",
     "varRefreshCmd": "cat(var_dic_list()) "
    }
   },
   "types_to_exclude": [
    "module",
    "function",
    "builtin_function_or_method",
    "instance",
    "_Feature"
   ],
   "window_display": false
  }
 },
 "nbformat": 4,
 "nbformat_minor": 4
}
